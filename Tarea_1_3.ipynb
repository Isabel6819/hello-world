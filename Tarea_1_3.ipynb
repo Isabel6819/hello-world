{
  "nbformat": 4,
  "nbformat_minor": 0,
  "metadata": {
    "colab": {
      "provenance": [],
      "collapsed_sections": [],
      "authorship_tag": "ABX9TyOHzhVpda6RtDvjl8/x4SQY",
      "include_colab_link": true
    },
    "kernelspec": {
      "name": "python3",
      "display_name": "Python 3"
    },
    "language_info": {
      "name": "python"
    }
  },
  "cells": [
    {
      "cell_type": "markdown",
      "metadata": {
        "id": "view-in-github",
        "colab_type": "text"
      },
      "source": [
        "<a href=\"https://colab.research.google.com/github/Isabel6819/hello-world/blob/main/Tarea_1_3.ipynb\" target=\"_parent\"><img src=\"https://colab.research.google.com/assets/colab-badge.svg\" alt=\"Open In Colab\"/></a>"
      ]
    },
    {
      "cell_type": "code",
      "execution_count": 1,
      "metadata": {
        "colab": {
          "base_uri": "https://localhost:8080/"
        },
        "id": "EPibNuPKvSVR",
        "outputId": "b8d2ce51-26e2-4b0d-ccd3-2962a0d3eadf"
      },
      "outputs": [
        {
          "output_type": "stream",
          "name": "stdout",
          "text": [
            "Hola\n"
          ]
        }
      ],
      "source": [
        "print (\"Hola\")"
      ]
    },
    {
      "cell_type": "code",
      "source": [
        "variable1='Hola'\n",
        "print (variable1)"
      ],
      "metadata": {
        "colab": {
          "base_uri": "https://localhost:8080/"
        },
        "id": "2CiYbUp-wX5-",
        "outputId": "b8e96ff5-5e40-4970-b0b9-d2acd0f173fc"
      },
      "execution_count": 3,
      "outputs": [
        {
          "output_type": "stream",
          "name": "stdout",
          "text": [
            "Hola\n"
          ]
        }
      ]
    },
    {
      "cell_type": "code",
      "source": [
        ">>> (1+2)**2"
      ],
      "metadata": {
        "colab": {
          "base_uri": "https://localhost:8080/"
        },
        "id": "HycB7ClqxRZ2",
        "outputId": "cf874804-d488-41bd-8aeb-4898021bcf55"
      },
      "execution_count": 5,
      "outputs": [
        {
          "output_type": "execute_result",
          "data": {
            "text/plain": [
              "9"
            ]
          },
          "metadata": {},
          "execution_count": 5
        }
      ]
    },
    {
      "cell_type": "code",
      "source": [
        ">>> first_number = int(input(' Introduce el primer número: '))\n",
        ">>> second_number = int(input(' Introduce el segundo número: '))\n",
        ">>> sum = first_number + second_number\n",
        ">>> sum**3"
      ],
      "metadata": {
        "colab": {
          "base_uri": "https://localhost:8080/"
        },
        "id": "W35SfcVrxW1k",
        "outputId": "6d7b93fa-e918-46bb-e1d2-d6912f10451e"
      },
      "execution_count": 16,
      "outputs": [
        {
          "name": "stdout",
          "output_type": "stream",
          "text": [
            " Introduce el primer número: 2\n",
            " Introduce el segundo número: 1\n"
          ]
        },
        {
          "output_type": "execute_result",
          "data": {
            "text/plain": [
              "27"
            ]
          },
          "metadata": {},
          "execution_count": 16
        }
      ]
    },
    {
      "cell_type": "code",
      "source": [
        "frase='Stranger Things'\n",
        "numero = 3\n",
        "sumados= frase + ' ' + str (numero)\n",
        "print (sumados)\n",
        "print(frase,numero)"
      ],
      "metadata": {
        "colab": {
          "base_uri": "https://localhost:8080/"
        },
        "id": "Fv3YGmej11PZ",
        "outputId": "e1f5b524-4278-4763-cfce-9f6eec4cf0ed"
      },
      "execution_count": 21,
      "outputs": [
        {
          "output_type": "stream",
          "name": "stdout",
          "text": [
            "Stranger Things 3\n",
            "Stranger Things 3\n"
          ]
        }
      ]
    },
    {
      "cell_type": "code",
      "source": [],
      "metadata": {
        "id": "mulPxnqQ1scD"
      },
      "execution_count": null,
      "outputs": []
    }
  ]
}